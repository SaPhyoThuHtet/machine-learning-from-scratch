{
 "cells": [
  {
   "cell_type": "code",
   "execution_count": 6,
   "metadata": {
    "id": "IdZvFD-7_OnJ"
   },
   "outputs": [],
   "source": [
    "\"\"\"\n",
    "y = b0 + b1 * x\n",
    "\n",
    "b1= sum((xi-mean(x)) * (yi-mean(y)))    / sum((xi – mean(x))^2)\n",
    "   \n",
    "\n",
    "b0 = mean(y) – b1 * mean(x)\n",
    "\n",
    "\n",
    "\"\"\"\n",
    "\n",
    "class Simple_Linear_Regression():\n",
    "    \n",
    "    def __init__(self):\n",
    "      self.b0 = 0\n",
    "      self.b1 = 0\n",
    "    \n",
    "    def mean(self, values):\n",
    "      return sum(values)/len(values)\n",
    "\n",
    "    def numerator_of_b1(self, X, Y):\n",
    "    #sum((xi-mean(x)) * (yi-mean(y))) \n",
    "        mean_x = self.mean(X)\n",
    "        mean_y = self.mean(Y)\n",
    "\n",
    "        return sum([(x-mean_x)*(y-mean_y) for x,y in zip (X, Y)])\n",
    "\n",
    "\n",
    "    def denominator_of_b1(self, X):\n",
    "      #sum((xi – mean(x))^2)\n",
    "      return sum([(x-self.mean(X))**2 for x in X])\n",
    "\n",
    "\n",
    "\n",
    "    def fit(self, X, Y):\n",
    "\n",
    "      self.b1 = self.numerator_of_b1(X,Y)/self.denominator_of_b1(X)\n",
    "      self.b0 = self.mean(Y) - self.b1*self.mean(X)\n",
    "\n",
    "\n",
    "    def predict(self, X):\n",
    "      Y = [self.b1*x+ self.b0 for x in X]\n",
    "      return Y\n",
    "\n",
    "\n"
   ]
  },
  {
   "cell_type": "code",
   "execution_count": 7,
   "metadata": {
    "id": "e5NCADd6D6nq"
   },
   "outputs": [],
   "source": [
    "model= Simple_Linear_Regression()"
   ]
  },
  {
   "cell_type": "code",
   "execution_count": 8,
   "metadata": {
    "colab": {
     "base_uri": "https://localhost:8080/"
    },
    "id": "mcwtVECAECGb",
    "outputId": "4b0709bf-b6f8-42c1-8332-1b411dc5331e"
   },
   "outputs": [
    {
     "data": {
      "text/plain": [
       "<__main__.Simple_Linear_Regression at 0x7f6c7179cdd8>"
      ]
     },
     "execution_count": 8,
     "metadata": {},
     "output_type": "execute_result"
    }
   ],
   "source": [
    "model"
   ]
  },
  {
   "cell_type": "code",
   "execution_count": 14,
   "metadata": {},
   "outputs": [],
   "source": [
    "# Testing with 7 multiplication Table"
   ]
  },
  {
   "cell_type": "code",
   "execution_count": 15,
   "metadata": {
    "id": "bO7MGim1EDJv"
   },
   "outputs": [],
   "source": [
    "X_train = [1, 2, 3, 4, 5, 6, 7]\n",
    "Y_train = [7, 14, 21, 28, 35, 42, 49]"
   ]
  },
  {
   "cell_type": "code",
   "execution_count": 16,
   "metadata": {
    "id": "GkNEb8rlEna1"
   },
   "outputs": [],
   "source": [
    "model.fit(X_train, Y_train)"
   ]
  },
  {
   "cell_type": "code",
   "execution_count": 17,
   "metadata": {
    "colab": {
     "base_uri": "https://localhost:8080/"
    },
    "id": "ah59i79gEzED",
    "outputId": "ca0ea190-f9d1-4048-aecc-cfaa16f5d3aa"
   },
   "outputs": [
    {
     "data": {
      "text/plain": [
       "0.0"
      ]
     },
     "execution_count": 17,
     "metadata": {},
     "output_type": "execute_result"
    }
   ],
   "source": [
    "model.b0"
   ]
  },
  {
   "cell_type": "code",
   "execution_count": 18,
   "metadata": {
    "colab": {
     "base_uri": "https://localhost:8080/"
    },
    "id": "jfjxwz5SFMOb",
    "outputId": "b96ec0a2-b018-4362-9905-78580c395831"
   },
   "outputs": [
    {
     "data": {
      "text/plain": [
       "7.0"
      ]
     },
     "execution_count": 18,
     "metadata": {},
     "output_type": "execute_result"
    }
   ],
   "source": [
    "model.b1"
   ]
  },
  {
   "cell_type": "code",
   "execution_count": 20,
   "metadata": {
    "colab": {
     "base_uri": "https://localhost:8080/"
    },
    "id": "ccW6l2cLFNY_",
    "outputId": "60eaf187-e9d2-44b5-ce21-71023dd15d2d"
   },
   "outputs": [
    {
     "data": {
      "text/plain": [
       "[56.0, 63.0, 70.0]"
      ]
     },
     "execution_count": 20,
     "metadata": {},
     "output_type": "execute_result"
    }
   ],
   "source": [
    "model.predict([8, 9, 10])"
   ]
  },
  {
   "cell_type": "code",
   "execution_count": null,
   "metadata": {},
   "outputs": [],
   "source": []
  }
 ],
 "metadata": {
  "colab": {
   "name": "1.simple-linear-regression.ipynb",
   "provenance": []
  },
  "kernelspec": {
   "display_name": "Python 3",
   "language": "python",
   "name": "python3"
  },
  "language_info": {
   "codemirror_mode": {
    "name": "ipython",
    "version": 3
   },
   "file_extension": ".py",
   "mimetype": "text/x-python",
   "name": "python",
   "nbconvert_exporter": "python",
   "pygments_lexer": "ipython3",
   "version": "3.6.9"
  }
 },
 "nbformat": 4,
 "nbformat_minor": 1
}
