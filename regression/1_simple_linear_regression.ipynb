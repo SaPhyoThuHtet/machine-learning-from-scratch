{
  "nbformat": 4,
  "nbformat_minor": 0,
  "metadata": {
    "colab": {
      "name": "1.simple-linear-regression.ipynb",
      "provenance": []
    },
    "kernelspec": {
      "name": "python3",
      "display_name": "Python 3"
    },
    "language_info": {
      "name": "python"
    }
  },
  "cells": [
    {
      "cell_type": "code",
      "metadata": {
        "id": "IdZvFD-7_OnJ"
      },
      "source": [
        "class Simple_Linear_Regression():\n",
        "    \n",
        "    def __init__(self):\n",
        "      self.b0 = 0\n",
        "      self.b1 = 0\n",
        "    \n",
        "    def mean(self, values):\n",
        "      return sum(values)/len(values)\n",
        "\n",
        "    def numerator_of_b1(self, X, Y):\n",
        "    #sum((xi-mean(x)) * (yi-mean(y))) \n",
        "        mean_x = self.mean(X)\n",
        "        mean_y = self.mean(Y)\n",
        "\n",
        "        return sum([(x-mean_x)*(y-mean_y) for x,y in zip (X, Y)])\n",
        "\n",
        "\n",
        "    def deno_of_b1(self, X):\n",
        "      #sum((xi – mean(x))^2)\n",
        "      return sum([(x-self.mean(X))**2 for x in X])\n",
        "\n",
        "\n",
        "\n",
        "    def fit(self, X, Y):\n",
        "\n",
        "      self.b1 = self.numerator_of_b1(X,Y)/self.deno_of_b1(X)\n",
        "      self.b0 = self.mean(Y) - self.b1*self.mean(X)\n",
        "\n",
        "\n",
        "    def predict(self, X):\n",
        "      Y = [self.b1*x+ self.b0 for x in X]\n",
        "      return Y\n",
        "\n",
        "\n"
      ],
      "execution_count": null,
      "outputs": []
    },
    {
      "cell_type": "code",
      "metadata": {
        "id": "e5NCADd6D6nq"
      },
      "source": [
        "model= Simple_Linear_Regression()"
      ],
      "execution_count": null,
      "outputs": []
    },
    {
      "cell_type": "code",
      "metadata": {
        "colab": {
          "base_uri": "https://localhost:8080/"
        },
        "id": "mcwtVECAECGb",
        "outputId": "4b0709bf-b6f8-42c1-8332-1b411dc5331e"
      },
      "source": [
        "model"
      ],
      "execution_count": null,
      "outputs": [
        {
          "output_type": "execute_result",
          "data": {
            "text/plain": [
              "<__main__.Simple_Linear_Regression at 0x7f2f4e3439d0>"
            ]
          },
          "metadata": {},
          "execution_count": 14
        }
      ]
    },
    {
      "cell_type": "code",
      "metadata": {
        "id": "bO7MGim1EDJv"
      },
      "source": [
        "X_train = [1, 2, 3, 4, 5, 6, 7]\n",
        "Y_train = [7, 14, 21, 28, 35, 42, 49]"
      ],
      "execution_count": null,
      "outputs": []
    },
    {
      "cell_type": "code",
      "metadata": {
        "id": "GkNEb8rlEna1"
      },
      "source": [
        "model.fit(X_train, Y_train)"
      ],
      "execution_count": null,
      "outputs": []
    },
    {
      "cell_type": "code",
      "metadata": {
        "colab": {
          "base_uri": "https://localhost:8080/"
        },
        "id": "ah59i79gEzED",
        "outputId": "ca0ea190-f9d1-4048-aecc-cfaa16f5d3aa"
      },
      "source": [
        "model.b0"
      ],
      "execution_count": null,
      "outputs": [
        {
          "output_type": "execute_result",
          "data": {
            "text/plain": [
              "0.0"
            ]
          },
          "metadata": {},
          "execution_count": 31
        }
      ]
    },
    {
      "cell_type": "code",
      "metadata": {
        "colab": {
          "base_uri": "https://localhost:8080/"
        },
        "id": "jfjxwz5SFMOb",
        "outputId": "b96ec0a2-b018-4362-9905-78580c395831"
      },
      "source": [
        "model.b1"
      ],
      "execution_count": null,
      "outputs": [
        {
          "output_type": "execute_result",
          "data": {
            "text/plain": [
              "7.0"
            ]
          },
          "metadata": {},
          "execution_count": 32
        }
      ]
    },
    {
      "cell_type": "code",
      "metadata": {
        "colab": {
          "base_uri": "https://localhost:8080/"
        },
        "id": "ccW6l2cLFNY_",
        "outputId": "60eaf187-e9d2-44b5-ce21-71023dd15d2d"
      },
      "source": [
        "model.predict([8])"
      ],
      "execution_count": null,
      "outputs": [
        {
          "output_type": "execute_result",
          "data": {
            "text/plain": [
              "[56.0]"
            ]
          },
          "metadata": {},
          "execution_count": 33
        }
      ]
    },
    {
      "cell_type": "code",
      "metadata": {
        "id": "vpqPLPonFfnE"
      },
      "source": [
        ""
      ],
      "execution_count": null,
      "outputs": []
    }
  ]
}