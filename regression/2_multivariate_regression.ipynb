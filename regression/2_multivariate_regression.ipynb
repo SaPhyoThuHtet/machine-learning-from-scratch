{
 "cells": [
  {
   "cell_type": "code",
   "execution_count": 3,
   "metadata": {},
   "outputs": [
    {
     "data": {
      "text/plain": [
       "'\\nDate: 3.9.21(Fri)\\n'"
      ]
     },
     "execution_count": 3,
     "metadata": {},
     "output_type": "execute_result"
    }
   ],
   "source": [
    "\"\"\"\n",
    "Date: 3.9.21(Fri)\n",
    "\"\"\""
   ]
  },
  {
   "cell_type": "code",
   "execution_count": 4,
   "metadata": {
    "id": "chtB7InzSuft"
   },
   "outputs": [],
   "source": [
    "import pandas as pd\n",
    "import numpy as np\n",
    "from numpy.random import rand"
   ]
  },
  {
   "cell_type": "code",
   "execution_count": 5,
   "metadata": {
    "id": "i7F3El0GTC9s"
   },
   "outputs": [],
   "source": [
    "class MultiVariateRegression():\n",
    "\n",
    "  def __init__(self, learning_rate, num_iterations):\n",
    "    self.learning_rate = learning_rate\n",
    "    self.num_iterations = num_iterations\n",
    "\n",
    "  def fit(self, X, Y):\n",
    "    self.X = X\n",
    "    self.Y = Y\n",
    "    self.b = 0\n",
    "    self.W = np.zeros(X.shape[1])\n",
    "\n",
    "    for i in range(self.num_iterations):\n",
    "      Y_predicted = self.predict(self.X)\n",
    "      dW = - (2 *np.dot(self.X.T,(self.Y - Y_predicted) ) )/ self.X.shape[0]\n",
    "      db = - 2 * np.sum( self.Y - Y_predicted ) / self.X.shape[0]\n",
    "      self.W -= self.learning_rate * dW\n",
    "      self.b -= self.learning_rate * db\n",
    "  \n",
    "\n",
    "  def predict(self, X):\n",
    "    Y = np.dot(X, self.W)+self.b\n",
    "    return Y\n"
   ]
  },
  {
   "cell_type": "code",
   "execution_count": 8,
   "metadata": {
    "id": "mU4QCfHnTrLI"
   },
   "outputs": [],
   "source": [
    "# Read Data\n",
    "train_data = pd.read_csv('sample_data/california_housing_test.csv')\n",
    "test_data = pd.read_csv('sample_data/california_housing_test.csv')\n",
    "\n",
    "# Remove Null Values\n",
    "train_data.dropna(inplace = True)\n",
    "test_data.dropna(inplace= True)\n",
    "\n",
    "\n",
    "X_train = train_data.iloc[:,:-1].values\n",
    "Y_train = train_data.iloc[:,1].values\n",
    "\n",
    "X_test = test_data.iloc[:,:-1].values\n",
    "Y_test = test_data.iloc[:,1].values"
   ]
  },
  {
   "cell_type": "code",
   "execution_count": 9,
   "metadata": {
    "colab": {
     "base_uri": "https://localhost:8080/"
    },
    "id": "--yLfkCgADJz",
    "outputId": "f861f829-113e-45d9-c3b7-e6b87fb39d53"
   },
   "outputs": [
    {
     "data": {
      "text/plain": [
       "array([[-122.05  ,   37.37  ,   27.    , ..., 1537.    ,  606.    ,\n",
       "           6.6085],\n",
       "       [-118.3   ,   34.26  ,   43.    , ...,  809.    ,  277.    ,\n",
       "           3.599 ],\n",
       "       [-117.81  ,   33.78  ,   27.    , ..., 1484.    ,  495.    ,\n",
       "           5.7934],\n",
       "       ...,\n",
       "       [-119.7   ,   36.3   ,   10.    , ...,  693.    ,  220.    ,\n",
       "           2.2895],\n",
       "       [-117.12  ,   34.1   ,   40.    , ...,   46.    ,   14.    ,\n",
       "           3.2708],\n",
       "       [-119.63  ,   34.42  ,   42.    , ...,  753.    ,  260.    ,\n",
       "           8.5608]])"
      ]
     },
     "execution_count": 9,
     "metadata": {},
     "output_type": "execute_result"
    }
   ],
   "source": [
    "X_train"
   ]
  },
  {
   "cell_type": "code",
   "execution_count": 11,
   "metadata": {
    "id": "iWwYruorT6J2"
   },
   "outputs": [],
   "source": [
    "#model = LinearRegression(0.001,   15000)\n",
    "model = MultiVariateRegression(0.000000001,   100)\n",
    "#model.fit(X_train, Y_train)\n",
    "model.fit(X_train, Y_train)"
   ]
  },
  {
   "cell_type": "code",
   "execution_count": 12,
   "metadata": {
    "id": "njoRksSLbmTV"
   },
   "outputs": [],
   "source": [
    "Y_predicted = model.predict(X_test)\n"
   ]
  },
  {
   "cell_type": "code",
   "execution_count": 13,
   "metadata": {
    "colab": {
     "base_uri": "https://localhost:8080/"
    },
    "id": "pvr4_e1tb5h3",
    "outputId": "5832889b-f00c-41f3-a520-f64e2cd3dcee"
   },
   "outputs": [
    {
     "data": {
      "text/plain": [
       "array([29.10066103, 12.22083973, 26.90702824, ...,  8.46140599,\n",
       "        0.8098974 , 13.38862268])"
      ]
     },
     "execution_count": 13,
     "metadata": {},
     "output_type": "execute_result"
    }
   ],
   "source": [
    "Y_predicted"
   ]
  },
  {
   "cell_type": "code",
   "execution_count": 14,
   "metadata": {
    "colab": {
     "base_uri": "https://localhost:8080/"
    },
    "id": "tUQOPx5m34nA",
    "outputId": "d7dd0e14-a8c2-4284-c536-923b96371d3a"
   },
   "outputs": [
    {
     "data": {
      "text/plain": [
       "array([37.37, 34.26, 33.78, ..., 36.3 , 34.1 , 34.42])"
      ]
     },
     "execution_count": 14,
     "metadata": {},
     "output_type": "execute_result"
    }
   ],
   "source": [
    "Y_test"
   ]
  },
  {
   "cell_type": "code",
   "execution_count": 15,
   "metadata": {
    "id": "7Nu6yDkccGFn"
   },
   "outputs": [],
   "source": [
    "\n",
    "mean_square_error = sum([(y-y_predicted)**2 for y, y_predicted in zip(Y_test, Y_predicted)])/len(Y_predicted)"
   ]
  },
  {
   "cell_type": "code",
   "execution_count": 16,
   "metadata": {
    "colab": {
     "base_uri": "https://localhost:8080/"
    },
    "id": "ctUN2ffdclJd",
    "outputId": "4e53d42d-7b81-4e86-8af5-cc7affd941a8"
   },
   "outputs": [
    {
     "data": {
      "text/plain": [
       "488.1781786167659"
      ]
     },
     "execution_count": 16,
     "metadata": {},
     "output_type": "execute_result"
    }
   ],
   "source": [
    "mean_square_error"
   ]
  }
 ],
 "metadata": {
  "colab": {
   "name": "4. Linear Regression from Scratch",
   "provenance": []
  },
  "kernelspec": {
   "display_name": "Python 3",
   "language": "python",
   "name": "python3"
  },
  "language_info": {
   "codemirror_mode": {
    "name": "ipython",
    "version": 3
   },
   "file_extension": ".py",
   "mimetype": "text/x-python",
   "name": "python",
   "nbconvert_exporter": "python",
   "pygments_lexer": "ipython3",
   "version": "3.6.9"
  }
 },
 "nbformat": 4,
 "nbformat_minor": 1
}
